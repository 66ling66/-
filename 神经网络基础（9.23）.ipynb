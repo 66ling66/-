{
 "cells": [
  {
   "cell_type": "code",
   "execution_count": 5,
   "id": "cdeba43c",
   "metadata": {},
   "outputs": [],
   "source": [
    "import torch\n",
    "import torch.nn as nn\n",
    "from torch.nn import functional as F"
   ]
  },
  {
   "cell_type": "markdown",
   "id": "c74199ab",
   "metadata": {},
   "source": [
    "定义一个线性模型，输入维度是in_dim,输出维度是out_dim"
   ]
  },
  {
   "cell_type": "code",
   "execution_count": 13,
   "id": "e0c074d0",
   "metadata": {},
   "outputs": [],
   "source": [
    "class Linear_model(nn.Module):\n",
    "    def __init__(self,in_dim,out_dim):\n",
    "        super(Linear_model,self).__init__()\n",
    "        self.input = nn.Linear(in_dim,out_dim)\n",
    "    def forward(self,x):\n",
    "        out = self.input(x)\n",
    "        return out"
   ]
  },
  {
   "cell_type": "code",
   "execution_count": 15,
   "id": "a876b831",
   "metadata": {},
   "outputs": [
    {
     "data": {
      "text/plain": [
       "(torch.Size([3, 2]),\n",
       " tensor([[-1.0088, -0.6627],\n",
       "         [-0.9053, -0.4485],\n",
       "         [ 0.3277,  0.0803]], grad_fn=<AddmmBackward0>))"
      ]
     },
     "execution_count": 15,
     "metadata": {},
     "output_type": "execute_result"
    }
   ],
   "source": [
    "x = torch.randn(3,32)\n",
    "model = Linear_model(32,2)\n",
    "out = model(x)\n",
    "out.shape,out"
   ]
  },
  {
   "cell_type": "markdown",
   "id": "343ef7ee",
   "metadata": {},
   "source": [
    "使用sigmoid激活函数，公式:\n",
    "$$f(x) = \\frac{1}{1 + e^{-z}}$$ \\\n",
    "使用torch.sigmoid是对tensor中每个数应用这个公式"
   ]
  },
  {
   "cell_type": "code",
   "execution_count": 22,
   "id": "13b2ed7b",
   "metadata": {},
   "outputs": [
    {
     "data": {
      "text/plain": [
       "(torch.Size([3, 2]),\n",
       " tensor([[0.2672, 0.3401],\n",
       "         [0.2880, 0.3897],\n",
       "         [0.5812, 0.5201]], grad_fn=<SigmoidBackward0>))"
      ]
     },
     "execution_count": 22,
     "metadata": {},
     "output_type": "execute_result"
    }
   ],
   "source": [
    "activation_sigmoid = torch.sigmoid(out)\n",
    "activation_sigmoid.shape,activation_sigmoid"
   ]
  },
  {
   "cell_type": "markdown",
   "id": "454817ad",
   "metadata": {},
   "source": [
    "使用softmax函数，公式：\n",
    "$$ f(x) = \\frac{e^{i}}{e^1 + e^2 +....+ e^n}$$\n",
    "其中使用torch.softmax时需要指定维度，在二维数据中，如果指定dim=0，那么意思是逐行计算，则每一列的数据都会归一化，求和为1，如果dim=1，那么意思是逐列计算，则每一行的数据都会归一化，求和为1\n",
    "在本例中，我们随机生成的数据维度是3*32，则说明有3个样本，每个样本特征维度为32，模型的输出是2维的，说明模型可能在做一个二分类的问题，则我们在此时使用softmax函数应该逐列计算，指定维度为dim=1，这样每一行两个数据，每一个数据表示属于某个类别的概率"
   ]
  },
  {
   "cell_type": "code",
   "execution_count": 26,
   "id": "7c84a884",
   "metadata": {},
   "outputs": [
    {
     "data": {
      "text/plain": [
       "(torch.Size([3, 2]),\n",
       " tensor([[0.4143, 0.5857],\n",
       "         [0.3877, 0.6123],\n",
       "         [0.5615, 0.4385]], grad_fn=<SoftmaxBackward0>))"
      ]
     },
     "execution_count": 26,
     "metadata": {},
     "output_type": "execute_result"
    }
   ],
   "source": [
    "activation_softmax = torch.softmax(out,dim=1)\n",
    "activation_softmax.shape,activation_softmax"
   ]
  },
  {
   "cell_type": "markdown",
   "id": "c0b07c16",
   "metadata": {},
   "source": [
    "relu激活函数,公式：\n",
    "$$ f(x) = max(0,x) $$"
   ]
  },
  {
   "cell_type": "code",
   "execution_count": 29,
   "id": "7e5db35f",
   "metadata": {},
   "outputs": [
    {
     "data": {
      "text/plain": [
       "(torch.Size([3, 2]),\n",
       " tensor([[0.0000, 0.0000],\n",
       "         [0.0000, 0.0000],\n",
       "         [0.3277, 0.0803]], grad_fn=<ReluBackward0>))"
      ]
     },
     "execution_count": 29,
     "metadata": {},
     "output_type": "execute_result"
    }
   ],
   "source": [
    "activation_relu = torch.relu(out)\n",
    "activation_relu.shape,activation_relu"
   ]
  },
  {
   "cell_type": "markdown",
   "id": "053833fe",
   "metadata": {},
   "source": [
    "自定义一个神经网络模型，他包含两个线性层"
   ]
  },
  {
   "cell_type": "code",
   "execution_count": 44,
   "id": "e4e835bc",
   "metadata": {},
   "outputs": [],
   "source": [
    "class MLP(nn.Module):\n",
    "    def __init__(self,in_dim,hidden_dim,out_dim):\n",
    "        super(MLP,self).__init__()\n",
    "        \n",
    "        self.linear1 = nn.Linear(in_dim,hidden_dim)\n",
    "        self.linear2 = nn.Linear(hidden_dim,out_dim)\n",
    "    \n",
    "    def forward(self,x):\n",
    "        \n",
    "        out1 = self.linear1(x)\n",
    "        \n",
    "        out1 = torch.relu(out1)\n",
    "        \n",
    "        out2 = self.linear2(out1)\n",
    "        \n",
    "        prob = torch.softmax(out2,dim=1)\n",
    "        return prob"
   ]
  },
  {
   "cell_type": "code",
   "execution_count": 45,
   "id": "30c4d0c8",
   "metadata": {},
   "outputs": [
    {
     "data": {
      "text/plain": [
       "(torch.Size([3, 2]),\n",
       " tensor([[0.4154, 0.5846],\n",
       "         [0.5167, 0.4833],\n",
       "         [0.4205, 0.5795]], grad_fn=<SoftmaxBackward0>))"
      ]
     },
     "execution_count": 45,
     "metadata": {},
     "output_type": "execute_result"
    }
   ],
   "source": [
    "x = torch.randn(3,4)\n",
    "model_mlp = MLP(4,5,2)\n",
    "out = model_mlp(x)\n",
    "out.shape,out"
   ]
  },
  {
   "cell_type": "code",
   "execution_count": null,
   "id": "dc686475",
   "metadata": {},
   "outputs": [],
   "source": []
  }
 ],
 "metadata": {
  "kernelspec": {
   "display_name": "Python 3 (ipykernel)",
   "language": "python",
   "name": "python3"
  },
  "language_info": {
   "codemirror_mode": {
    "name": "ipython",
    "version": 3
   },
   "file_extension": ".py",
   "mimetype": "text/x-python",
   "name": "python",
   "nbconvert_exporter": "python",
   "pygments_lexer": "ipython3",
   "version": "3.8.10"
  }
 },
 "nbformat": 4,
 "nbformat_minor": 5
}
